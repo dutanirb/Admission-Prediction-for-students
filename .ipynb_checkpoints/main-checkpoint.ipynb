{
 "cells": [
  {
   "cell_type": "code",
   "execution_count": null,
   "id": "075a3d57",
   "metadata": {},
   "outputs": [],
   "source": [
    "import numpy as np\n",
    "import pandas as pd\n",
    "import matplotlib.pyplot as plt\n",
    "import seaborn as sns\n",
    "from sklearn.model_selection import train_test_split,learning_curve\n",
    "from sklearn.linear_model import LogisticRegression\n",
    "from sklearn.linear_model import LinearRegression,Ridge\n",
    "from sklearn.neural_network import MLPRegressor\n",
    "from vecstack import stacking, StackingTransformer\n",
    "from sklearn.svm import SVR\n",
    "from sklearn.ensemble import RandomForestRegressor,AdaBoostRegressor, GradientBoostingRegressor\n",
    "from sklearn.tree import DecisionTreeRegressor\n",
    "from sklearn.preprocessing import StandardScaler, MinMaxScaler\n",
    "from sklearn.model_selection import GridSearchCV,cross_val_score\n",
    "from sklearn.metrics import confusion_matrix,mean_squared_error, r2_score\n",
    "from sklearn import ensemble\n",
    "import matplotlib.pylab as pyl\n",
    "from sklearn.ensemble import VotingRegressor\n",
    "import warnings"
   ]
  },
  {
   "cell_type": "code",
   "execution_count": null,
   "id": "25f30e7a",
   "metadata": {},
   "outputs": [],
   "source": [
    "warnings.filterwarnings('ignore')\n",
    "result={'estimator':[],'MSE':[],'R2':[]}\n",
    "result"
   ]
  },
  {
   "cell_type": "code",
   "execution_count": null,
   "id": "d15424ab",
   "metadata": {},
   "outputs": [],
   "source": [
    "def model(estimator, X_train, Y_train, X_test, Y_test):\n",
    "    model=estimator.fit(X_train, Y_train)\n",
    "    print(\"Parameters of model :\\n\",model)\n",
    "    predict = model.predict(X_test)\n",
    "    print(\"Predict:\\n\", predict)\n",
    "    train_acc = model.score(X_train, Y_train)\n",
    "    print('Training data accuracy in model is:', train_acc)\n",
    "    test_acc = model.score(X_test, Y_test)\n",
    "    print('Test data accuracy in model is', test_acc)\n",
    "    MSE = mean_squared_error(Y_test, predict)\n",
    "    print('Mean squared error of test is :', MSE)\n",
    "    result['MSE'].append(MSE)\n",
    "    return predict"
   ]
  },
  {
   "cell_type": "code",
   "execution_count": null,
   "id": "7a4fd2cd",
   "metadata": {},
   "outputs": [],
   "source": [
    "def plot_result(weights,data_columns ):\n",
    "    weights = pd.Series(weights, index=data_columns)\n",
    "    weights.nlargest(10).plot(kind='barh')\n",
    "    plt.show()"
   ]
  },
  {
   "cell_type": "code",
   "execution_count": null,
   "id": "5b47494f",
   "metadata": {},
   "outputs": [],
   "source": [
    "def cv_result(estimator,dataX, dataY):\n",
    "    r2 = cross_val_score(estimator, dataX, dataY, cv=10, scoring='r2')\n",
    "    print(\"Accuracy: %0.2f (+/- %0.2f)\" % (r2.mean(), r2.std() * 2))\n",
    "    result['R2'].append(r2.mean())\n"
   ]
  },
  {
   "cell_type": "code",
   "execution_count": null,
   "id": "9f99035a",
   "metadata": {},
   "outputs": [],
   "source": [
    "def plot_learning_curve(estimator, title, X, y, ylim=None, cv=3, n_jobs=None,\n",
    "                        train_sizes=np.linspace(.1, 1.0, 5)):\n",
    "    plt.figure()\n",
    "    plt.title(title)\n",
    "    if ylim is not None:\n",
    "        plt.ylim(*ylim)\n",
    "    plt.xlabel(\"Training examples\")\n",
    "    plt.ylabel(\"Score\")\n",
    "\n",
    "    train_sizes, train_scores, test_scores = learning_curve(\n",
    "        estimator, X, y, cv=cv, n_jobs=n_jobs, train_sizes=train_sizes)\n",
    "\n",
    "    train_scores_mean = np.mean(train_scores, axis=1)\n",
    "    train_scores_std = np.std(train_scores, axis=1)\n",
    "    test_scores_mean = np.mean(test_scores, axis=1)\n",
    "    test_scores_std = np.std(test_scores, axis=1)\n",
    "    plt.grid()\n",
    "\n",
    "    plt.fill_between(train_sizes, train_scores_mean - train_scores_std, train_scores_mean + train_scores_std,\n",
    "                     alpha=0.1, color=\"r\")\n",
    "    plt.fill_between(train_sizes, test_scores_mean - test_scores_std, test_scores_mean + test_scores_std,\n",
    "                     alpha=0.1, color=\"b\")\n",
    "    plt.plot(train_sizes, train_scores_mean, 'o-', color=\"r\", label=\"Training score\")\n",
    "    plt.plot(train_sizes, test_scores_mean, 'o-', color=\"b\", label=\"Cross-validation score\")\n",
    "\n",
    "    plt.legend(loc=\"best\")\n",
    "\n",
    "    plt.show()"
   ]
  },
  {
   "cell_type": "code",
   "execution_count": null,
   "id": "81434e41",
   "metadata": {},
   "outputs": [],
   "source": [
    "dataset = pd.read_csv('predict_admission.csv')\n",
    "pd.set_option('display.width',None)"
   ]
  },
  {
   "cell_type": "code",
   "execution_count": null,
   "id": "2c9e19d7",
   "metadata": {},
   "outputs": [],
   "source": [
    "print(dataset.head())\n",
    "print(dataset.columns)\n",
    "dataset = dataset.rename(columns={'Serial No.':'SerialNo', 'GRE Score':'GREScore', 'TOEFL Score':'TOEFLScore', 'University Rating':'UniversityRating','LOR ':'LOR','Chance of Admit':'ChanceOfAdmit'})\n",
    "print(dataset.info())\n",
    "print(dataset.describe(include='all'))"
   ]
  },
  {
   "cell_type": "code",
   "execution_count": null,
   "id": "aab75cff",
   "metadata": {},
   "outputs": [],
   "source": [
    "data_train=dataset.drop('SerialNo',axis=1)\n",
    "data_train = data_train.drop('ChanceOfAdmit', axis=1)\n",
    "#dataX = dataX.drop('Research', axis=1)\n",
    "dataY = dataset['ChanceOfAdmit']\n",
    "print(dataset.corr())\n",
    "print(type(data_train))"
   ]
  },
  {
   "cell_type": "code",
   "execution_count": null,
   "id": "af4d0ef7",
   "metadata": {},
   "outputs": [],
   "source": [
    "sc=MinMaxScaler()\n",
    "sc.fit(data_train)\n",
    "dataX=sc.transform(data_train)\n",
    "dataX=pd.DataFrame(dataX,columns=data_train.columns)\n",
    "print(type(dataX))\n",
    "print(dataX.head())\n"
   ]
  },
  {
   "cell_type": "code",
   "execution_count": null,
   "id": "5dfcff2b",
   "metadata": {},
   "outputs": [],
   "source": [
    "threshold=0.73\n",
    "class_dataY = np.where(dataY>threshold,1,0)\n"
   ]
  },
  {
   "cell_type": "code",
   "execution_count": null,
   "id": "222cb9ca",
   "metadata": {},
   "outputs": [],
   "source": [
    "x_train, x_test, y_train, y_test = train_test_split(dataX, dataY, test_size=0.2, random_state=42)"
   ]
  },
  {
   "cell_type": "code",
   "execution_count": null,
   "id": "ef3b01be",
   "metadata": {},
   "outputs": [],
   "source": [
    "class_y_train = np.where(y_train>threshold,1,0)\n",
    "class_y_test = np.where(y_test>threshold,1,0)\n",
    "print(\"***************LinearRegression****************\")"
   ]
  },
  {
   "cell_type": "code",
   "execution_count": null,
   "id": "778c2f69",
   "metadata": {},
   "outputs": [],
   "source": [
    "estimator= LinearRegression()\n",
    "predict=model(estimator, x_train, y_train, x_test, y_test)\n",
    "cv_result(estimator,dataX, dataY)\n",
    "plot_result(estimator.coef_, data_train.columns)\n",
    "plot_learning_curve(estimator, \"Linear Regression Learning Curve\", dataX, dataY)\n",
    "result['estimator'].append('LR')"
   ]
  },
  {
   "cell_type": "code",
   "execution_count": null,
   "id": "9ce778d4",
   "metadata": {},
   "outputs": [],
   "source": [
    "print(\"***************RidgeRegression****************\")\n",
    "estimator= Ridge(alpha=0.1, random_state=2)\n",
    "predict=model(estimator, x_train, y_train, x_test, y_test)\n",
    "cv_result(estimator,dataX, dataY)\n",
    "plot_result(estimator.coef_, data_train.columns)\n",
    "plot_learning_curve(estimator, \"Ridge Regression Learning Curve\", dataX, dataY)\n"
   ]
  },
  {
   "cell_type": "code",
   "execution_count": null,
   "id": "81c5127e",
   "metadata": {},
   "outputs": [],
   "source": [
    "param_grid={'alpha':np.arange(0.1, 1, 0.2)}\n",
    "gs = GridSearchCV(estimator, param_grid, cv=10, scoring='r2')\n",
    "gs.fit(x_train, y_train)\n",
    "print('best parameters are:', gs.best_params_)\n",
    "print('best score is:', gs.best_score_)\n",
    "\n",
    "result['estimator'].append('Ridge')"
   ]
  },
  {
   "cell_type": "code",
   "execution_count": null,
   "id": "0a5ae535",
   "metadata": {},
   "outputs": [],
   "source": [
    "print(\"***************MLPRegression****************\")\n",
    "estimator = MLPRegressor(hidden_layer_sizes=(8,), activation='tanh',solver='lbfgs',random_state=3)\n",
    "predict=model(estimator, x_train, y_train, x_test, y_test)\n",
    "cv_result(estimator,dataX, dataY)\n",
    "result['estimator'].append('MLP')"
   ]
  },
  {
   "cell_type": "code",
   "execution_count": null,
   "id": "023a91f1",
   "metadata": {},
   "outputs": [],
   "source": [
    "param_grid={'hidden_layer_sizes':np.arange(1,10)}\n",
    "gs = GridSearchCV(estimator, param_grid, cv=10, scoring='r2')\n",
    "gs.fit(x_train, y_train)\n",
    "print('best parameters are:', gs.best_params_)\n",
    "print('best score is:', gs.best_score_)\n"
   ]
  },
  {
   "cell_type": "code",
   "execution_count": null,
   "id": "2d6b718e",
   "metadata": {},
   "outputs": [],
   "source": [
    "plot_learning_curve(estimator, \"Ridge Regression Learning Curve\", dataX, dataY)\n"
   ]
  },
  {
   "cell_type": "code",
   "execution_count": null,
   "id": "b2f686c3",
   "metadata": {},
   "outputs": [],
   "source": [
    "print(\"***************RandomForestRegression****************\")\n",
    "estimator = RandomForestRegressor(n_estimators=20,criterion='mse')\n",
    "predict=model(estimator, x_train, y_train, x_test, y_test)\n",
    "cv_result(estimator,dataX, dataY)\n",
    "print(estimator.feature_importances_)\n",
    "plot_result(estimator.feature_importances_, data_train.columns)\n",
    "result['estimator'].append('RF')\n",
    "plot_learning_curve(estimator, \"RandomForestRegression Learning Curve\", dataX, dataY)"
   ]
  },
  {
   "cell_type": "code",
   "execution_count": null,
   "id": "6998bf2b",
   "metadata": {},
   "outputs": [],
   "source": [
    "print(\"***************Stacking****************\")\n",
    "models = [LinearRegression(),MLPRegressor(hidden_layer_sizes=(8,), activation='tanh',solver='lbfgs'),\n",
    "          Ridge(alpha=0.1),RandomForestRegressor(n_estimators=20),GradientBoostingRegressor(n_estimators=20),AdaBoostRegressor(Ridge(alpha=0.1))]\n",
    "S_train, S_test = stacking(models, x_train, y_train, x_test, regression=True, verbose=2,shuffle=True)\n",
    "estimator = Ridge(alpha=0.1)\n",
    "S_predict=model(estimator, S_train, y_train, S_test, y_test)\n",
    "S = np.concatenate((S_train,S_test),axis=0)\n",
    "r2 = r2_score(y_test, S_predict, multioutput='variance_weighted')\n",
    "result['R2'].append(r2.mean())\n",
    "result['estimator'].append('ST')\n"
   ]
  },
  {
   "cell_type": "code",
   "execution_count": null,
   "id": "fe3a4b8d",
   "metadata": {},
   "outputs": [],
   "source": [
    "plot_learning_curve(estimator, \"Stacking Learning Curve\", dataX, class_dataY)"
   ]
  },
  {
   "cell_type": "code",
   "execution_count": null,
   "id": "e723a07a",
   "metadata": {},
   "outputs": [],
   "source": [
    "result=pd.DataFrame(result, columns=['estimator','MSE','R2'])\n",
    "print(result)"
   ]
  },
  {
   "cell_type": "code",
   "execution_count": null,
   "id": "9a97668f",
   "metadata": {},
   "outputs": [],
   "source": [
    "label_x = result['estimator']\n",
    "num_x1 = result['MSE']*100\n",
    "num_x2 = result['R2']\n",
    "x = list(range(len(label_x)))\n",
    "total_width, n = 0.8, 2\n",
    "width = total_width / n\n",
    "plt.bar(label_x, num_x1, width=width, label='MSE',fc = 'y')\n",
    "for i in range(len(x)):\n",
    "    x[i] = x[i] + width\n",
    "plt.bar(x, num_x2, width=width, label='R2',tick_label = label_x,fc = 'r')\n",
    "plt.legend()\n",
    "plt.show()"
   ]
  },
  {
   "cell_type": "code",
   "execution_count": null,
   "id": "367d46c6",
   "metadata": {},
   "outputs": [],
   "source": []
  }
 ],
 "metadata": {
  "kernelspec": {
   "display_name": "Python 3 (ipykernel)",
   "language": "python",
   "name": "python3"
  },
  "language_info": {
   "codemirror_mode": {
    "name": "ipython",
    "version": 3
   },
   "file_extension": ".py",
   "mimetype": "text/x-python",
   "name": "python",
   "nbconvert_exporter": "python",
   "pygments_lexer": "ipython3",
   "version": "3.9.6"
  }
 },
 "nbformat": 4,
 "nbformat_minor": 5
}
